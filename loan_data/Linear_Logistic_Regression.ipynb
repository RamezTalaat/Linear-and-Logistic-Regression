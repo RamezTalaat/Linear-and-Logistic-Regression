{
  "nbformat": 4,
  "nbformat_minor": 0,
  "metadata": {
    "colab": {
      "provenance": []
    },
    "kernelspec": {
      "name": "python3",
      "display_name": "Python 3"
    },
    "language_info": {
      "name": "python"
    }
  },
  "cells": [
    {
      "cell_type": "markdown",
      "source": [
        "This project's goal is to: build  a linear regression model and a logistic regression to predict loan decisions and amounts\n",
        "\n",
        "**Solution Steps:**\n",
        "\n",
        "\n",
        "1. Data Analysis on \"loan_old.csv\" dataset\n",
        "2. Data Preprocessing\n",
        "3. Linear Regression Model Fitting\n",
        "4. Linear Regression Model Evalutaion\n",
        "5. Logistic Regression Model Implementation and Fitting\n",
        "6. Accuracy Evaluation Function\n",
        "7. Preforming all previous steps on \"loan_new.csv\" dataset\n",
        "\n"
      ],
      "metadata": {
        "id": "jetN_Zyyi1Rt"
      }
    },
    {
      "cell_type": "markdown",
      "source": [
        "**Step 1. Data Analysis on \"loan_old.csv\" dataset**"
      ],
      "metadata": {
        "id": "XhAeHZK0k8LR"
      }
    },
    {
      "cell_type": "code",
      "source": [],
      "metadata": {
        "id": "36Cegq3lk3wT"
      },
      "execution_count": null,
      "outputs": []
    }
  ]
}