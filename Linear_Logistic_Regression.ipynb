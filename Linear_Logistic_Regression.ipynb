{
  "cells": [
    {
      "cell_type": "markdown",
      "metadata": {
        "id": "jetN_Zyyi1Rt"
      },
      "source": [
        "This project's goal is to: build  a linear regression model and a logistic regression to predict loan decisions and amounts\n",
        "\n",
        "**Solution Steps:**\n",
        "\n",
        "\n",
        "1. Data Analysis on \"loan_old.csv\" dataset\n",
        "2. Data Preprocessing\n",
        "3. Linear Regression Model Fitting\n",
        "4. Linear Regression Model Evalutaion\n",
        "5. Logistic Regression Model Implementation and Fitting\n",
        "6. Accuracy Evaluation Function\n",
        "7. Preforming all previous steps on \"loan_new.csv\" dataset\n",
        "\n"
      ]
    },
    {
      "cell_type": "markdown",
      "metadata": {
        "id": "XhAeHZK0k8LR"
      },
      "source": [
        "**Step 1. Data Analysis on \"loan_old.csv\" dataset**"
      ]
    },
    {
      "cell_type": "code",
      "execution_count": 1,
      "metadata": {
        "id": "36Cegq3lk3wT"
      },
      "outputs": [
        {
          "name": "stdout",
          "output_type": "stream",
          "text": [
            ":hi mom\n"
          ]
        }
      ],
      "source": [
        "print(\":hi mom\")"
      ]
    }
  ],
  "metadata": {
    "colab": {
      "provenance": []
    },
    "kernelspec": {
      "display_name": "Python 3",
      "name": "python3"
    },
    "language_info": {
      "codemirror_mode": {
        "name": "ipython",
        "version": 3
      },
      "file_extension": ".py",
      "mimetype": "text/x-python",
      "name": "python",
      "nbconvert_exporter": "python",
      "pygments_lexer": "ipython3",
      "version": "3.12.1"
    }
  },
  "nbformat": 4,
  "nbformat_minor": 0
}
